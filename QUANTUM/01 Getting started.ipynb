{
 "cells": [
  {
   "cell_type": "markdown",
   "metadata": {
    "colab_type": "text",
    "id": "yjwNz9RFMN-G"
   },
   "source": [
    "# Running the IBMQ and Qiskit "
   ]
  },
  {
   "cell_type": "markdown",
   "metadata": {
    "colab_type": "text",
    "id": "KBmULRsTMN-H"
   },
   "source": [
    "## Preparing the circuit (Quantum Random Number Generator)"
   ]
  },
  {
   "cell_type": "markdown",
   "metadata": {
    "colab_type": "text",
    "id": "ZL-txtAaMN-I"
   },
   "source": [
    "The access to IMB Quantum experience is done via *Qiskit* package"
   ]
  },
  {
   "cell_type": "code",
   "execution_count": 1,
   "metadata": {
    "colab": {},
    "colab_type": "code",
    "id": "IydI3sU_MN-J"
   },
   "outputs": [],
   "source": [
    "import qiskit\n",
    "from qiskit.visualization import plot_histogram"
   ]
  },
  {
   "cell_type": "markdown",
   "metadata": {
    "colab_type": "text",
    "id": "gAbe0YMZMN-N"
   },
   "source": [
    "The basic definition of a circuit is given by the number of qubits and the number of classical bits. Let's start with the simplest circuit having one qubit and one classical bit:"
   ]
  },
  {
   "cell_type": "code",
   "execution_count": 2,
   "metadata": {
    "colab": {},
    "colab_type": "code",
    "id": "HZP8-EoIMN-N"
   },
   "outputs": [],
   "source": [
    "circuit = qiskit.QuantumCircuit(1, 1)"
   ]
  },
  {
   "cell_type": "markdown",
   "metadata": {
    "colab_type": "text",
    "id": "dduqoOUfMN-Q"
   },
   "source": [
    "Having defined the basic structure of the circuit, you can define a sequence of operations performed on it. For example we might want to apply Hadamard on the qubit and then measure:"
   ]
  },
  {
   "cell_type": "code",
   "execution_count": 3,
   "metadata": {
    "colab": {},
    "colab_type": "code",
    "id": "oKPxo-52MN-R",
    "outputId": "04735f54-84df-481b-89a9-8674f69de05b"
   },
   "outputs": [
    {
     "data": {
      "text/plain": [
       "<qiskit.circuit.instructionset.InstructionSet at 0x1d244205850>"
      ]
     },
     "execution_count": 3,
     "metadata": {},
     "output_type": "execute_result"
    }
   ],
   "source": [
    "circuit.h(0)\n",
    "circuit.measure(0,0)"
   ]
  },
  {
   "cell_type": "markdown",
   "metadata": {
    "colab_type": "text",
    "id": "9dStOvDfMN-V"
   },
   "source": [
    "At any point one can draw the circuit using the draw object. Default setting is text output:"
   ]
  },
  {
   "cell_type": "code",
   "execution_count": 4,
   "metadata": {
    "colab": {},
    "colab_type": "code",
    "id": "4bjwHgEZMN-W",
    "outputId": "81dc3ee9-49f2-4006-eed6-4ee963fef0fb"
   },
   "outputs": [
    {
     "data": {
      "text/html": [
       "<pre style=\"word-wrap: normal;white-space: pre;background: #fff0;line-height: 1.1;font-family: &quot;Courier New&quot;,Courier,monospace\">     ┌───┐┌─┐\n",
       "q_0: ┤ H ├┤M├\n",
       "     └───┘└╥┘\n",
       "c: 1/══════╩═\n",
       "           0 </pre>"
      ],
      "text/plain": [
       "     ┌───┐┌─┐\n",
       "q_0: ┤ H ├┤M├\n",
       "     └───┘└╥┘\n",
       "c: 1/══════╩═\n",
       "           0 "
      ]
     },
     "execution_count": 4,
     "metadata": {},
     "output_type": "execute_result"
    }
   ],
   "source": [
    "circuit.draw()"
   ]
  },
  {
   "cell_type": "markdown",
   "metadata": {
    "colab_type": "text",
    "id": "nj_zJMgcMN-a"
   },
   "source": [
    "However, one can obtain a more comprehensible output using the Matplotlib:"
   ]
  },
  {
   "cell_type": "code",
   "execution_count": 5,
   "metadata": {
    "colab": {},
    "colab_type": "code",
    "id": "juEomzavMN-a",
    "outputId": "ea0040b5-ccab-4c1d-8ea3-81faab120f16"
   },
   "outputs": [
    {
     "data": {
      "image/png": "[encoded data removed]",
      "text/plain": [
       "<Figure size 193.726x144.48 with 1 Axes>"
      ]
     },
     "execution_count": 5,
     "metadata": {},
     "output_type": "execute_result"
    }
   ],
   "source": [
    "circuit.draw(output=\"mpl\")"
   ]
  },
  {
   "cell_type": "markdown",
   "metadata": {
    "colab_type": "text",
    "id": "SoSJ4zgMMN-d"
   },
   "source": [
    "## Simulating the circuit "
   ]
  },
  {
   "cell_type": "markdown",
   "metadata": {
    "colab_type": "text",
    "id": "m_QBfpF_MN-e"
   },
   "source": [
    "To run the circuit, define first the backend for your circuit. You can use start by using a built-in (local) simulator. A standard one is provided in Aer framework called *QASM*. A *QASM* simulator is available also as an IBM cloud service. Finally, you can use also one of the available quantum computers. For now, let us start with the built-in simulator."
   ]
  },
  {
   "cell_type": "code",
   "execution_count": 6,
   "metadata": {
    "colab": {},
    "colab_type": "code",
    "id": "bxwcjlmjMN-f"
   },
   "outputs": [],
   "source": [
    "simulator = qiskit.Aer.get_backend('qasm_simulator')"
   ]
  },
  {
   "cell_type": "markdown",
   "metadata": {
    "colab_type": "text",
    "id": "8iQ9QGGAMN-i"
   },
   "source": [
    "Then you can run the job using the <code>execute</code> command."
   ]
  },
  {
   "cell_type": "code",
   "execution_count": 7,
   "metadata": {
    "colab": {},
    "colab_type": "code",
    "id": "tIJeD3GuMN-i"
   },
   "outputs": [],
   "source": [
    "job = qiskit.execute(circuit, simulator, shots=1024)"
   ]
  },
  {
   "cell_type": "code",
   "execution_count": 8,
   "metadata": {
    "colab": {},
    "colab_type": "code",
    "id": "as_xCZdSMN-l",
    "outputId": "a7b852bb-adae-4081-d69e-ebae79bfade2"
   },
   "outputs": [
    {
     "name": "stdout",
     "output_type": "stream",
     "text": [
      "{'0': 530, '1': 494}\n"
     ]
    }
   ],
   "source": [
    "counts = job.result().get_counts()\n",
    "print(counts)"
   ]
  },
  {
   "cell_type": "markdown",
   "metadata": {
    "colab_type": "text",
    "id": "sufx80B6MN-p"
   },
   "source": [
    "The <code>result()</code> object is not just results, it contains an extensive information about performed job"
   ]
  },
  {
   "cell_type": "code",
   "execution_count": 9,
   "metadata": {
    "colab": {},
    "colab_type": "code",
    "id": "fB_ognTuMN-p",
    "outputId": "74fd08cd-4965-454b-b69f-ef79e69ce0a3"
   },
   "outputs": [
    {
     "data": {
      "text/plain": [
       "Result(backend_name='0.7.0', backend_version='0.7.0', qobj_id='3531e27d-bcc0-4fb2-900b-fc6a79851f08', job_id='94bf5842-051b-4904-9f71-457590fb51a5', success=True, results=[ExperimentResult(shots=1024, success=True, meas_level=MeasLevel.CLASSIFIED, data=ExperimentResultData(counts={'0x0': 530, '0x1': 494}), header=QobjExperimentHeader(clbit_labels=[['c', 0]], creg_sizes=[['c', 1]], global_phase=0.0, memory_slots=1, n_qubits=1, name='circuit10', qreg_sizes=[['q', 1]], qubit_labels=[['q', 0]]), status=DONE, seed_simulator=3363309609, time_taken=0.0040912, metadata={'fusion': {'enabled': False}, 'measure_sampling': True, 'method': 'stabilizer', 'parallel_shots': 1, 'parallel_state_update': 8})], date=2021-10-07T10:12:44.997726, status=COMPLETED, status=QobjHeader(backend_name='qasm_simulator', backend_version='0.7.0'), metadata={'max_memory_mb': 8097, 'omp_enabled': True, 'parallel_experiments': 1, 'time_taken': 0.0042318}, time_taken=0.004986286163330078)"
      ]
     },
     "execution_count": 9,
     "metadata": {},
     "output_type": "execute_result"
    }
   ],
   "source": [
    "job.result()"
   ]
  },
  {
   "cell_type": "markdown",
   "metadata": {
    "colab_type": "text",
    "id": "gso4fqrXMN-s"
   },
   "source": [
    "One can use also visualize these results"
   ]
  },
  {
   "cell_type": "code",
   "execution_count": 10,
   "metadata": {
    "colab": {},
    "colab_type": "code",
    "id": "FEMdtUXkMN-t",
    "outputId": "664c1c8e-87c3-41df-a850-6ba1d96076a7",
    "scrolled": true
   },
   "outputs": [
    {
     "data": {
      "image/png": "[encoded data removed]",
      "text/plain": [
       "<Figure size 504x360 with 1 Axes>"
      ]
     },
     "execution_count": 10,
     "metadata": {},
     "output_type": "execute_result"
    }
   ],
   "source": [
    "plot_histogram(counts)"
   ]
  },
  {
   "cell_type": "markdown",
   "metadata": {
    "colab_type": "text",
    "id": "r8TLO0QDMN-w"
   },
   "source": [
    "in the ideal case, the quantum system provides a physical way of obtaining randomness. Hence, we have created a quantum RNG."
   ]
  },
  {
   "cell_type": "markdown",
   "metadata": {
    "colab_type": "text",
    "id": "PJrxMOcVMN-x"
   },
   "source": [
    "## The Quantum Experience"
   ]
  },
  {
   "cell_type": "markdown",
   "metadata": {
    "colab_type": "text",
    "id": "KErhHJHFMN-x"
   },
   "source": [
    "To use IBM quantum computer, import IBMQ object from Qiskit package. This object manages account credentials."
   ]
  },
  {
   "cell_type": "code",
   "execution_count": 12,
   "metadata": {
    "colab": {},
    "colab_type": "code",
    "id": "gX1l_j0nMN-y"
   },
   "outputs": [],
   "source": [
    "from qiskit import IBMQ"
   ]
  },
  {
   "cell_type": "markdown",
   "metadata": {
    "colab_type": "text",
    "id": "_qryit5JMN-0"
   },
   "source": [
    "If you are first-time user, you need to get an API token. Follow the instructions on <a href=\"https://qiskit.org/documentation/install.html#access-ibm-q-systems\">this page</a> to create your own token. After you obtain it, run the following code, where you replace <code>MY_API_TOKEN</code> with the token you obtained."
   ]
  },
  {
   "cell_type": "code",
   "execution_count": 13,
   "metadata": {
    "colab": {},
    "colab_type": "code",
    "id": "uFNcklAGMN-1"
   },
   "outputs": [
    {
     "name": "stderr",
     "output_type": "stream",
     "text": [
      "configrc.store_credentials:WARNING:2021-10-07 10:16:15,684: Credentials already present. Set overwrite=True to overwrite.\n"
     ]
    }
   ],
   "source": [
    "IBMQ.save_account('51bab9542993d3903eab4d901a0d1a5824e2209718d45b125d2d814031ce83323cb102a1c528d2a92e09dd83076e5bb50f3a0eedc40f5eeb2255bd72813471b9')"
   ]
  },
  {
   "cell_type": "markdown",
   "metadata": {
    "colab_type": "text",
    "id": "t435oIH9MN-6"
   },
   "source": [
    "If you have already used the account and the token is stored on your computer, you can load it using"
   ]
  },
  {
   "cell_type": "code",
   "execution_count": 14,
   "metadata": {},
   "outputs": [
    {
     "name": "stderr",
     "output_type": "stream",
     "text": [
      "C:\\ProgramData\\Anaconda3\\envs\\PQP\\lib\\site-packages\\qiskit\\providers\\ibmq\\ibmqfactory.py:192: UserWarning: Timestamps in IBMQ backend properties, jobs, and job results are all now in local time instead of UTC.\n",
      "  warnings.warn('Timestamps in IBMQ backend properties, jobs, and job results '\n"
     ]
    },
    {
     "data": {
      "text/plain": [
       "<AccountProvider for IBMQ(hub='ibm-q', group='open', project='main')>"
      ]
     },
     "execution_count": 14,
     "metadata": {},
     "output_type": "execute_result"
    }
   ],
   "source": [
    "IBMQ.load_account()"
   ]
  },
  {
   "cell_type": "markdown",
   "metadata": {
    "colab_type": "text",
    "id": "VasvjdAwMN-9"
   },
   "source": [
    "You can chec the active account using code"
   ]
  },
  {
   "cell_type": "code",
   "execution_count": 15,
   "metadata": {
    "colab": {},
    "colab_type": "code",
    "id": "C1H2QvAxMN--"
   },
   "outputs": [
    {
     "data": {
      "text/plain": [
       "{'token': '51bab9542993d3903eab4d901a0d1a5824e2209718d45b125d2d814031ce83323cb102a1c528d2a92e09dd83076e5bb50f3a0eedc40f5eeb2255bd72813471b9',\n",
       " 'url': 'https://auth.quantum-computing.ibm.com/api'}"
      ]
     },
     "execution_count": 15,
     "metadata": {},
     "output_type": "execute_result"
    }
   ],
   "source": [
    "IBMQ.active_account()"
   ]
  },
  {
   "cell_type": "markdown",
   "metadata": {
    "colab_type": "text",
    "id": "zRI3O2_MMN_A"
   },
   "source": [
    "Now, to run the job, first select the device that will be used as a backend instead of simulator. First, let us look at available devices."
   ]
  },
  {
   "cell_type": "code",
   "execution_count": 16,
   "metadata": {
    "colab": {},
    "colab_type": "code",
    "id": "giu62m91MN_B",
    "outputId": "d3e0dfb5-4b67-4b79-d20b-48cded4a22b8"
   },
   "outputs": [
    {
     "data": {
      "text/plain": [
       "[<IBMQSimulator('ibmq_qasm_simulator') from IBMQ(hub='ibm-q', group='open', project='main')>,\n",
       " <IBMQBackend('ibmq_armonk') from IBMQ(hub='ibm-q', group='open', project='main')>,\n",
       " <IBMQBackend('ibmq_santiago') from IBMQ(hub='ibm-q', group='open', project='main')>,\n",
       " <IBMQBackend('ibmq_bogota') from IBMQ(hub='ibm-q', group='open', project='main')>,\n",
       " <IBMQBackend('ibmq_lima') from IBMQ(hub='ibm-q', group='open', project='main')>,\n",
       " <IBMQBackend('ibmq_belem') from IBMQ(hub='ibm-q', group='open', project='main')>,\n",
       " <IBMQBackend('ibmq_quito') from IBMQ(hub='ibm-q', group='open', project='main')>,\n",
       " <IBMQSimulator('simulator_statevector') from IBMQ(hub='ibm-q', group='open', project='main')>,\n",
       " <IBMQSimulator('simulator_mps') from IBMQ(hub='ibm-q', group='open', project='main')>,\n",
       " <IBMQSimulator('simulator_extended_stabilizer') from IBMQ(hub='ibm-q', group='open', project='main')>,\n",
       " <IBMQSimulator('simulator_stabilizer') from IBMQ(hub='ibm-q', group='open', project='main')>,\n",
       " <IBMQBackend('ibmq_manila') from IBMQ(hub='ibm-q', group='open', project='main')>]"
      ]
     },
     "execution_count": 16,
     "metadata": {},
     "output_type": "execute_result"
    }
   ],
   "source": [
    "IBMQ.get_provider().backends()"
   ]
  },
  {
   "cell_type": "markdown",
   "metadata": {
    "colab_type": "text",
    "id": "ZQvoOGB-MN_D"
   },
   "source": [
    "These are all the backends you can use. The first one is the *QASM* cloud simulator, and the rest are available quantum computers. Some are more busy than others and we can use the least busy one."
   ]
  },
  {
   "cell_type": "code",
   "execution_count": null,
   "metadata": {
    "colab": {},
    "colab_type": "code",
    "id": "aSGGbSoSMN_E"
   },
   "outputs": [],
   "source": [
    "device = qiskit.providers.ibmq.least_busy(IBMQ.get_provider().backends(operational=True, simulator=False))"
   ]
  },
  {
   "cell_type": "markdown",
   "metadata": {},
   "source": [
    "Or you can choose your preferred computer by name."
   ]
  },
  {
   "cell_type": "code",
   "execution_count": 17,
   "metadata": {},
   "outputs": [],
   "source": [
    "device = IBMQ.get_provider().get_backend(\"ibmq_santiago\")"
   ]
  },
  {
   "cell_type": "markdown",
   "metadata": {
    "colab_type": "text",
    "id": "OxhRa8bpMN_G"
   },
   "source": [
    "Now you can run the job in the same way as when we used the simulator"
   ]
  },
  {
   "cell_type": "code",
   "execution_count": 18,
   "metadata": {
    "colab": {},
    "colab_type": "code",
    "id": "itPtpFwYMN_G"
   },
   "outputs": [],
   "source": [
    "job = qiskit.execute(circuit, device, shots=1024)"
   ]
  },
  {
   "cell_type": "markdown",
   "metadata": {
    "colab_type": "text",
    "id": "Rav5ShAOMN_J"
   },
   "source": [
    "You can monitor the progress of your job, as it can take several minutes to go through the queue and run"
   ]
  },
  {
   "cell_type": "code",
   "execution_count": 19,
   "metadata": {
    "colab": {},
    "colab_type": "code",
    "id": "87p6uQSeMN_K",
    "outputId": "30b17a75-a380-434d-8567-68466a8c6916"
   },
   "outputs": [
    {
     "name": "stdout",
     "output_type": "stream",
     "text": [
      "Job Status: job has successfully run\n"
     ]
    }
   ],
   "source": [
    "from qiskit.tools.monitor import job_monitor\n",
    "job_monitor(job)"
   ]
  },
  {
   "cell_type": "markdown",
   "metadata": {
    "colab_type": "text",
    "id": "WEUofMxjMN_M"
   },
   "source": [
    "Now, you can look at the results"
   ]
  },
  {
   "cell_type": "code",
   "execution_count": null,
   "metadata": {
    "colab": {},
    "colab_type": "code",
    "id": "BPdmcoK2MN_N",
    "outputId": "f0af0d3c-ed25-49d0-fd5d-d9824c65171f"
   },
   "outputs": [],
   "source": [
    "result = job.result()\n",
    "counts = result.get_counts()\n",
    "plot_histogram(counts)"
   ]
  },
  {
   "cell_type": "markdown",
   "metadata": {
    "colab_type": "text",
    "id": "gv7Z1Ih9MN_P"
   },
   "source": [
    "## Quantum computer v. QASM simulator "
   ]
  },
  {
   "cell_type": "markdown",
   "metadata": {
    "colab_type": "text",
    "id": "-PaBO3VBMN_P"
   },
   "source": [
    "To see the basic difference between the simulator and the quantum computer, it is enough to just prepare an \"empty\" circuit, in which we just measure the initialized state."
   ]
  },
  {
   "cell_type": "code",
   "execution_count": null,
   "metadata": {
    "colab": {},
    "colab_type": "code",
    "id": "iCJnwttAMN_Q",
    "outputId": "885ede9c-012d-4fb2-ce2d-d41d56c5e32d"
   },
   "outputs": [],
   "source": [
    "circuit = qiskit.QuantumCircuit(1, 1)\n",
    "circuit.measure(0, 0)\n",
    "circuit.draw(output=\"mpl\")"
   ]
  },
  {
   "cell_type": "markdown",
   "metadata": {
    "colab_type": "text",
    "id": "x_5GDkfTMN_T"
   },
   "source": [
    "Classical QASM simulation will use the predefined <code>simulator</code> backend."
   ]
  },
  {
   "cell_type": "code",
   "execution_count": null,
   "metadata": {
    "colab": {},
    "colab_type": "code",
    "id": "nhS9BczAMN_T"
   },
   "outputs": [],
   "source": [
    "cjob = qiskit.execute(circuit, simulator, shots=1024)\n",
    "ccounts = cjob.result().get_counts()"
   ]
  },
  {
   "cell_type": "markdown",
   "metadata": {
    "colab_type": "text",
    "id": "_3TtfmrSMN_a"
   },
   "source": [
    "For quantum computation we will use already defined quantum computer in <code>device</code>."
   ]
  },
  {
   "cell_type": "code",
   "execution_count": null,
   "metadata": {
    "colab": {},
    "colab_type": "code",
    "id": "Cnt_EZStMN_b",
    "outputId": "e17b6288-af0e-45b9-dce7-833c1f7458a2"
   },
   "outputs": [],
   "source": [
    "qjob = qiskit.execute(circuit, device, shots=1024)\n",
    "job_monitor(qjob)"
   ]
  },
  {
   "cell_type": "code",
   "execution_count": null,
   "metadata": {
    "colab": {},
    "colab_type": "code",
    "id": "lhTczbdZMN_e"
   },
   "outputs": [],
   "source": [
    "qcounts = qjob.result().get_counts()"
   ]
  },
  {
   "cell_type": "markdown",
   "metadata": {
    "colab_type": "text",
    "id": "aUXd3nMHMN_g"
   },
   "source": [
    "Let's plot the results of both runs."
   ]
  },
  {
   "cell_type": "code",
   "execution_count": null,
   "metadata": {
    "colab": {},
    "colab_type": "code",
    "id": "Xh1Wl86SMN_g",
    "outputId": "86322c9d-3635-4cdc-de99-86103603eca0",
    "scrolled": true
   },
   "outputs": [],
   "source": [
    "plot_histogram([ccounts, qcounts], legend=[\"QASM\", \"QC\"])"
   ]
  },
  {
   "cell_type": "markdown",
   "metadata": {
    "colab_type": "text",
    "id": "bPPI0vgSMN_i"
   },
   "source": [
    "We see that in simulation the initialization to vector $|0\\rangle$ is perfect - out of all 1024 runs all ended with measurement outcome 0. Quantum computers, however, at present have a high faoult rate and so even in this simplest case we can obtain an error - measurement of vector $|0\\rangle$ can give outcome 1."
   ]
  },
  {
   "cell_type": "code",
   "execution_count": null,
   "metadata": {
    "colab": {},
    "colab_type": "code",
    "id": "EisL66rBMN_j"
   },
   "outputs": [],
   "source": []
  }
 ],
 "metadata": {
  "colab": {
   "name": "01 Getting started.ipynb",
   "provenance": []
  },
  "kernelspec": {
   "display_name": "Python 3",
   "language": "python",
   "name": "python3"
  },
  "language_info": {
   "codemirror_mode": {
    "name": "ipython",
    "version": 3
   },
   "file_extension": ".py",
   "mimetype": "text/x-python",
   "name": "python",
   "nbconvert_exporter": "python",
   "pygments_lexer": "ipython3",
   "version": "3.8.3"
  }
 },
 "nbformat": 4,
 "nbformat_minor": 1
}
