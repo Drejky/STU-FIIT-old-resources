{
 "cells": [
  {
   "cell_type": "markdown",
   "metadata": {},
   "source": [
    "# BBM92 protocol"
   ]
  },
  {
   "cell_type": "markdown",
   "metadata": {},
   "source": [
    "*Bennett, Brassard, Mermin (1992)*"
   ]
  },
  {
   "cell_type": "markdown",
   "metadata": {},
   "source": [
    "This QKD (or rather quantum key expansion) protocol is very similar to BB84. But unlike BB84 it makes use of entangled states. Without compromising security, its advantage is that the order in which Alice and Bob perform their measurements of the given entangled state does not have to be fixed. In contrast, in original BB84 Alice is always sending quantum systems to Bob and performing her state preparation before Bob’s measurement. The algorithm establishes secret key between Alice and Bob in a series of rounds, where in each round following protocol is followed:\n",
    "1. Bell state $|\\Psi^-\\rangle=\\frac{1}{\\sqrt{2}}(|01\\rangle - |10\\rangle)$ is prepared and distributed to Alice and Bob\n",
    "2. Alice chooses her basis by random bit `a` and measures her qubit in this basis - if `a=0` she measures in the computational basis and if `a=1` she measures in the Hadamard basis. She obtains bit `x`.\n",
    "3. Bob chooses his basis by random bit `b` and measures his qubit in this basis - if `b=0` he measures in the computational basis and if `b=1` he measures in the Hadamard basis.\n",
    "4. Both Alice and Bob save their choices of basis and outcomes of the measurements - Alice saves `(a, x)` and Bob saves `(b, y)`.\n",
    "\n",
    "After Alice and Bob perform enough rounds (`runs`), they share over an authenticated channel their basis choices for each round. They keep those bits `x` and `y` for which the bases coincided (`a=b`). The entanglement of the state $|\\Psi^-\\rangle$ is such that it produces anti-correlated measurement results in any basis used by both Alice and Bob for the measurement. Thus, in the case where the bases coincided the resulting bits `x` and `y` are also anticorrelated and this has to be accounted for (e.g. Bob can flip his bits). In the case where the bases were not the same, the results are completely random."
   ]
  },
  {
   "cell_type": "code",
   "execution_count": 1,
   "metadata": {},
   "outputs": [],
   "source": [
    "import qiskit\n",
    "from qiskit.visualization import plot_histogram\n",
    "from random import randint\n",
    "\n",
    "runs = 4096\n",
    "simulator = qiskit.Aer.get_backend('qasm_simulator')\n",
    "\n",
    "qreg = qiskit.QuantumRegister(2)\n",
    "creg = qiskit.ClassicalRegister(2)"
   ]
  },
  {
   "cell_type": "markdown",
   "metadata": {},
   "source": [
    "**Task 1:** Write code in the field below that performs one round of the BBM92 protocol. The input parameters are `a` and `b`, the choices of basis of Alice and Bob. Function returns the circuit performing the task."
   ]
  },
  {
   "cell_type": "code",
   "execution_count": 43,
   "metadata": {},
   "outputs": [],
   "source": [
    "def bbm92(a, b):\n",
    "    global qreg\n",
    "    global creg\n",
    "    \n",
    "    circ = qiskit.QuantumCircuit(qreg, creg)\n",
    "    \n",
    "    # Write your code here. It should include\n",
    "    #  1. State |Psi-> preparation\n",
    "    circ.h(0)\n",
    "    circ.x(1)\n",
    "    circ.z(0)\n",
    "    circ.z(1)\n",
    "    circ.cx(0, 1)\n",
    "    #  2. Alice's measurement\n",
    "    if a:\n",
    "        circ.h(0)\n",
    "    circ.measure(0,1)\n",
    "    if a:\n",
    "        circ.h(0)\n",
    "    #  3. Bob's measurement\n",
    "    if b:\n",
    "        circ.h(0)\n",
    "    circ.measure(0,0)\n",
    "    if b:\n",
    "        circ.h(0)\n",
    "    \n",
    "    return circ"
   ]
  },
  {
   "cell_type": "markdown",
   "metadata": {},
   "source": [
    "You can see here how your circit looks like."
   ]
  },
  {
   "cell_type": "code",
   "execution_count": 21,
   "metadata": {},
   "outputs": [
    {
     "data": {
      "image/png": "[encoded data removed]",
      "text/plain": [
       "<Figure size 890.601x284.278 with 1 Axes>"
      ]
     },
     "execution_count": 21,
     "metadata": {},
     "output_type": "execute_result"
    }
   ],
   "source": [
    "bbm92(1, 1).draw(output=\"mpl\")"
   ]
  },
  {
   "cell_type": "markdown",
   "metadata": {},
   "source": [
    "The following code performs `runs` rounds of the algorithm defined above. It stores the pairs `(a, x)` and `(b, y)` separately for Alice and Bob - they might be far away."
   ]
  },
  {
   "cell_type": "code",
   "execution_count": 44,
   "metadata": {},
   "outputs": [],
   "source": [
    "outA = []\n",
    "outB = []\n",
    "\n",
    "for _ in range(runs):\n",
    "    a = randint(0, 1)\n",
    "    b = randint(0, 1)\n",
    "    \n",
    "    res = qiskit.execute(bbm92(a, b), simulator, shots=1).result().get_counts()\n",
    "    out = list(res.keys())[0]\n",
    "    \n",
    "    outA.append((a, out[1]))\n",
    "    outB.append((b, out[0]))"
   ]
  },
  {
   "cell_type": "markdown",
   "metadata": {},
   "source": [
    "**Task 2:** Use the stored results `outA` and `outB` to distill the keys for Alice and Bob into registers `keyA` and `keyB`. Remember to account for the anti-correlation of `x` and `y`."
   ]
  },
  {
   "cell_type": "code",
   "execution_count": 48,
   "metadata": {},
   "outputs": [],
   "source": [
    "# Publicly shared information of ALice and Bob\n",
    "publicA = [x[0] for x in outA]\n",
    "publicB = [y[0] for y in outB]\n",
    "\n",
    "# Locally stored keys obtained using the public information\n",
    "keyA = []\n",
    "keyB = []\n",
    "\n",
    "# Write here code that distills the keys for Alice and Bob\n",
    "for i in range(runs):\n",
    "  if outA[i][0] == outB[i][0]:\n",
    "    keyA.append(publicA[i])\n",
    "    keyB.append(publicB[i])"
   ]
  },
  {
   "cell_type": "markdown",
   "metadata": {},
   "source": [
    "Running following command you can check how well your program performs."
   ]
  },
  {
   "cell_type": "code",
   "execution_count": 49,
   "metadata": {},
   "outputs": [
    {
     "name": "stdout",
     "output_type": "stream",
     "text": [
      "The two keys coincide in 100.0% of cases [correct program gives 100%]\n",
      "Your key length is 2036 [correct program gives roughly 2048]\n"
     ]
    }
   ],
   "source": [
    "corr = 0\n",
    "for i in range(len(keyA)):\n",
    "    if keyA[i] == keyB[i]:\n",
    "        corr += 1\n",
    "print(f\"The two keys coincide in {100 * corr / len(keyA)}% of cases [correct program gives 100%]\")\n",
    "print(f\"Your key length is {len(keyA)} [correct program gives roughly {runs / 2:.0f}]\")"
   ]
  },
  {
   "cell_type": "markdown",
   "metadata": {},
   "source": [
    "**Task 3:** Provide evidence that the outcomes `x` and `y` that Alice and Bob obtained above are anticorrelated when Alice's and Bob's bases coincided and were completely random otherwise (within expected deviations due to finite statistics originating from the number of runs performed)."
   ]
  },
  {
   "cell_type": "code",
   "execution_count": null,
   "metadata": {},
   "outputs": [],
   "source": [
    "# Write here your code. It is up to you what form of presentation you will use\n",
    "\n",
    "\n"
   ]
  },
  {
   "cell_type": "markdown",
   "metadata": {},
   "source": [
    "Note: We could go on and look at the security of this protocol, how well it stands against noise and eavesdropping. Similar considerations have been studied during the semester in BB84 protocol and if you programmed BBM92 protocol correctly, it would give basically the same results. We are not going to do it here."
   ]
  },
  {
   "cell_type": "code",
   "execution_count": null,
   "metadata": {},
   "outputs": [],
   "source": []
  }
 ],
 "metadata": {
  "kernelspec": {
   "display_name": "Python 3.9.13 ('base')",
   "language": "python",
   "name": "python3"
  },
  "language_info": {
   "codemirror_mode": {
    "name": "ipython",
    "version": 3
   },
   "file_extension": ".py",
   "mimetype": "text/x-python",
   "name": "python",
   "nbconvert_exporter": "python",
   "pygments_lexer": "ipython3",
   "version": "3.9.13"
  },
  "vscode": {
   "interpreter": {
    "hash": "3d733caf4ffc39d0fbd9a2ba54ef4b7d515956d8048931f8241efe3827fb2d1f"
   }
  }
 },
 "nbformat": 4,
 "nbformat_minor": 4
}
